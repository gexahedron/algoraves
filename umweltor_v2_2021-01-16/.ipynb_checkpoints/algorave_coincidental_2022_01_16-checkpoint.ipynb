{
 "cells": [
  {
   "cell_type": "code",
   "execution_count": 1,
   "id": "88d89677",
   "metadata": {},
   "outputs": [
    {
     "name": "stderr",
     "output_type": "stream",
     "text": [
      "INFO:sc3.synth.server:setting global variable 's' to 'localhost'\n"
     ]
    }
   ],
   "source": [
    "from sc3.all import *\n",
    "\n",
    "import random\n",
    "import time\n",
    "import numpy as np\n",
    "import os\n",
    "from math import inf, log, sin, ceil\n",
    "from functools import partial\n",
    "\n",
    "from instruments import *\n",
    "from rhythms import *\n",
    "from sc3_stuff import *\n",
    "\n",
    "with open('/Users/gexahedron/Downloads/env.txt', 'w') as f:\n",
    "    print('К-рейв!', file=f)"
   ]
  },
  {
   "cell_type": "code",
   "execution_count": 2,
   "id": "12867d96",
   "metadata": {},
   "outputs": [
    {
     "name": "stderr",
     "output_type": "stream",
     "text": [
      "INFO:sc3.synth.server:booting server 'localhost' on address 127.0.0.1:57110\n",
      "INFO:SERVER.stdout:Number of Devices: 4\n",
      "INFO:SERVER.stdout:   0 : \"External Headphones\"\n",
      "INFO:SERVER.stdout:   1 : \"MacBook Air Microphone\"\n",
      "INFO:SERVER.stdout:   2 : \"MacBook Air Speakers\"\n",
      "INFO:SERVER.stdout:   3 : \"Multi-Output Device\"\n",
      "INFO:SERVER.stdout:\n",
      "INFO:SERVER.stdout:\"MacBook Air Microphone\" Input Device\n",
      "INFO:SERVER.stdout:   Streams: 1\n",
      "INFO:SERVER.stdout:      0  channels 1\n",
      "INFO:SERVER.stdout:\n",
      "INFO:SERVER.stdout:\"External Headphones\" Output Device\n",
      "INFO:SERVER.stdout:   Streams: 1\n",
      "INFO:SERVER.stdout:      0  channels 2\n",
      "INFO:SERVER.stdout:\n",
      "INFO:SERVER.stdout:SC_AudioDriver: sample rate = 48000.000000, driver's block size = 512\n",
      "INFO:SERVER.stdout:SuperCollider 3 server ready.\n",
      "INFO:sc3.synth._serverstatus:'localhost': requested registration id\n",
      "INFO:sc3.synth._serverstatus:'localhost': setting client_id to 0\n"
     ]
    }
   ],
   "source": [
    "restart()"
   ]
  },
  {
   "cell_type": "code",
   "execution_count": 3,
   "id": "7f5fedec",
   "metadata": {},
   "outputs": [],
   "source": [
    "# read all samples into buffers\n",
    "bufs = []\n",
    "for f in sorted(os.listdir('foralek')):\n",
    "    if 'wav' not in f:\n",
    "        continue\n",
    "    bufs.append(Buffer.new_read('foralek/%s' % f))\n"
   ]
  },
  {
   "cell_type": "code",
   "execution_count": 4,
   "id": "13558936",
   "metadata": {
    "scrolled": true
   },
   "outputs": [],
   "source": [
    "# environmental maths\n",
    "cipher = [\n",
    "    (-0.5, -0.1),  # 0/001-0\n",
    "    (-0.3, None),  # 1/002-1\n",
    "    (0.1, 0.57),   # 2/003-2\n",
    "    (-0.3, 0.3),   # 3/004-3\n",
    "    (None, 0),     # 4/005-4\n",
    "    (None, -0.8),  # 5/006-2-6\n",
    "    (0, None),     # 6/007v2-7\n",
    "    (0.33, -0.47), # 7/008-8\n",
    "    (0.67, 0.5),   # 8/009-9\n",
    "]\n",
    "\n",
    "def sum_smpls(sample_indices):\n",
    "    res = [0, 0]\n",
    "    for ii in [0, 1]:\n",
    "        had_plus = False\n",
    "        had_minus = False\n",
    "        had_none = False\n",
    "        for sample in sample_indices:\n",
    "            val = cipher[sample][ii]\n",
    "            if val is None:\n",
    "                had_none = True\n",
    "                val = 0\n",
    "            elif val < 0:\n",
    "                had_minus = True\n",
    "            elif val > 0:\n",
    "                had_plus = True\n",
    "            res[ii] += val\n",
    "        res[ii] = np.clip(res[ii], -1, 1)\n",
    "        if (abs(res[ii]) < 1e-5) and had_none:\n",
    "            res[ii] = None\n",
    "    return tuple(res)\n",
    "\n",
    "def env2str(env):\n",
    "    return '(%s МнПро, %s МксПрл)' % env\n",
    "\n",
    "def analyze_sum(s):\n",
    "    if s[0] is None and s[1] is None:\n",
    "        return '0-движение', (0, 0)\n",
    "\n",
    "    # чистые среды\n",
    "    if s[0] is None:\n",
    "        if abs(s[1]) < abs(abs(s[1]) - 1): # n 0\n",
    "            return 'Упругость', ('n', '0')\n",
    "        elif s[1] < 0: # n -1\n",
    "            return 'Отскакивание', ('n', '-1')\n",
    "        else: # n 1\n",
    "            return 'Твёрдость', ('n', '1')\n",
    "    if s[1] is None:\n",
    "        if abs(s[0]) < abs(abs(s[0]) - 1): # 0 n\n",
    "            return 'Цепляние', ('0', 'n')\n",
    "        elif s[0] < 0: # -1 n\n",
    "            return 'Разрыв', ('-1', 'n')\n",
    "        else: # 1 n\n",
    "            return 'Зияние', ('1', 'n')\n",
    "    \n",
    "    # смешанные среды\n",
    "    env = [None, None]\n",
    "    for ii in [0, 1]:\n",
    "        val = s[ii]\n",
    "        if val is None:\n",
    "            val = 0\n",
    "        if abs(val) < abs(abs(val) - 1/3):\n",
    "            env[ii] = '0'\n",
    "        elif abs(abs(val) - 1/3) < abs(abs(val) - 2/3):\n",
    "            env[ii] = '0.33'\n",
    "        elif abs(abs(val) - 2/3) < abs(abs(val) - 1):\n",
    "            env[ii] = '0.67'\n",
    "        else:\n",
    "            env[ii] = '1'\n",
    "        if val < 0 and env[ii] != '0':\n",
    "            env[ii] = '-' + env[ii]\n",
    "    env = tuple(env)\n",
    "    if env == ('0', '0'):\n",
    "        if abs(s[0]) < abs(s[1]):\n",
    "            return 'Скольжение', env\n",
    "        elif abs(s[0]) > abs(s[1]):\n",
    "            return 'Погружение', env\n",
    "        else:\n",
    "            return 'Совпадение\\n' + env2str(env), env\n",
    "    if env[0] == env[1]: # -1 -1; 1 1; FIXME: what about e. g. (0.33, 0.33)?\n",
    "        return 'Совпадение\\n' + env2str(env), env\n",
    "    if env == ('-0.67', '-0.33'):\n",
    "        return 'Выталкивание', env\n",
    "    if env == ('0.67', '0.33'):\n",
    "        return 'Засасывание', env\n",
    "    if env == ('-0.33', '-0.67'):\n",
    "        return 'Ухабистость', env\n",
    "    if env == ('0.33', '0.67'):\n",
    "        return 'Прилипание', env\n",
    "    # FIXME\n",
    "    return 'Среда второго порядка\\n' + env2str(env), env\n",
    "    \n",
    "\n",
    "smpl_sum = sum_smpls([0, 1])\n",
    "# print(smpl_sum, analyze_sum(smpl_sum))\n",
    "\n",
    "def smpl(idx, rate=1, pan=0,\n",
    "         hpf=100, lpf=10000,\n",
    "         rel=15, pos=0, amp=0.5,\n",
    "         debug=False,):\n",
    "    bplay(buf=bufs[idx], rate=rate, pan=pan,\n",
    "          hpf=hpf, lpf=lpf, rel=rel, pos=pos,\n",
    "          amp=amp)\n",
    "    if debug:\n",
    "        print(cipher[idx], analyze_sum(sum_smpls([idx])))\n",
    "\n",
    "# for i1 in range(9):\n",
    "#     for i2 in range(i1, 9):\n",
    "#         print(i1, i2, cipher[i1], cipher[i2], analyze_sum(sum_smpls([i1, i2])))"
   ]
  },
  {
   "cell_type": "code",
   "execution_count": 5,
   "id": "c21fa942",
   "metadata": {},
   "outputs": [],
   "source": [
    "# some info; useful for debugging or demonstration purposes\n",
    "\n",
    "# 0 - pitched kick\n",
    "# 1 - laser scan, hihat with kick\n",
    "# 2 - kick\n",
    "# 3 - pitched groove\n",
    "# 4 - double kick\n",
    "# 5 - 3 background hihats, kick and rising note\n",
    "# 6 - snare\n",
    "# 7 - bass\n",
    "# 8 - bells\n",
    "\n",
    "# kicks: [0, 1, 2, 4]\n",
    "# snares: [6]\n",
    "# bass: [7]\n",
    "# hihats: [3, 5, 8]\n",
    "\n",
    "# smpl(0, rate=1.0, pan=0, hpf=10, lpf=10000, debug=True,)\n",
    "# smpl(1, pan=0, debug=True)\n",
    "# smpl(2, pan=0, debug=True)\n",
    "# smpl(3, pan=0, debug=True)\n",
    "# smpl(4, pan=0, debug=True)\n",
    "# smpl(5, pan=0, debug=True)\n",
    "# smpl(6, pan=0, debug=True)\n",
    "# smpl(7, pan=0, debug=True)\n",
    "# smpl(8, pan=0, debug=True)"
   ]
  },
  {
   "cell_type": "code",
   "execution_count": 6,
   "id": "01872fcd",
   "metadata": {},
   "outputs": [],
   "source": [
    "class Sample():\n",
    "    def __init__(self, idx, dur, ts, amp=1, pan=0,\n",
    "                 hpf=100, lpf=10000,\n",
    "                 rate=1, pos=0, rel=15):\n",
    "        self.idx = idx\n",
    "        self.dur = dur\n",
    "        self.ts = ts\n",
    "        self.amp = amp\n",
    "        self.pan = pan\n",
    "        self.hpf = hpf\n",
    "        self.lpf = lpf\n",
    "        self.rate = rate\n",
    "        self.pos = pos\n",
    "        self.rel = rel\n",
    "\n",
    "    def __str__(self):\n",
    "        return str(self.idx) + '; ' +\\\n",
    "               str(self.dur) + '; ' + str(self.ts)\n",
    "\n",
    "    def __repr__(self):\n",
    "        return self.__str__()"
   ]
  },
  {
   "cell_type": "code",
   "execution_count": 7,
   "id": "469a85f7",
   "metadata": {},
   "outputs": [],
   "source": [
    "def gen_random_percs(mode, beat_count, subbeat_count):\n",
    "    rhythm1 = create_rhythm2(beat_count - 1, subbeat_count, mode)\n",
    "    rhythm2 = create_rhythm2(1, subbeat_count, mode)\n",
    "    rhythm = rhythm1 + rhythm2\n",
    "    total_count = beat_count * subbeat_count\n",
    "    assert(len(rhythm) == total_count)\n",
    "    percs = []\n",
    "    rep = 0\n",
    "    for i in range(beat_count * subbeat_count):\n",
    "        if rhythm[i] == 0:\n",
    "            percs.append('.')\n",
    "        else:\n",
    "            percs.append(0)\n",
    "    if mode == 'snare':\n",
    "        for i in range(beat_count):\n",
    "            for j in range(subbeat_count):\n",
    "                note_idx = i * subbeat_count + j\n",
    "                if j > subbeat_count / 2:\n",
    "                    percs[note_idx] = '.'\n",
    "    return percs\n",
    "    "
   ]
  },
  {
   "cell_type": "code",
   "execution_count": 8,
   "id": "f1f6cd94",
   "metadata": {},
   "outputs": [],
   "source": [
    "class Processor():\n",
    "    def __init__(self):\n",
    "        self.voices = []\n",
    "        self.voices_sample = []\n",
    "        self.events = [] # (ts, note, voice)\n",
    "        self.muted = set()\n",
    "        self.rel_coef = 6\n",
    "        self.base_coef = 1.3\n",
    "        self.reps = 2\n",
    "        self.cur_rep = self.reps - 1\n",
    "        self.coef = self.base_coef\n",
    "        self.mode = 'autopilot'\n",
    "        self.voice_names = ['kick', 'snare', 'hihat', 'bass']\n",
    "        self.voice_idx = {\n",
    "            'kick'  : 0,\n",
    "            'snare' : 1,\n",
    "            'hihat' : 2,\n",
    "            'bass'  : 3,\n",
    "        }\n",
    "        self.mute_prob = {\n",
    "            'kick'  : 0.05,\n",
    "            'snare' : 0.4,\n",
    "            'hihat' : 0.3,\n",
    "            'bass'  : 0.1,\n",
    "        }\n",
    "        self.available_samples = {\n",
    "            'kick'  : [0, 2, 4],\n",
    "            'snare' : [1, 6],\n",
    "            'hihat' : [3, 5, 8],\n",
    "            'bass'  : [1, 7],\n",
    "        }\n",
    "        self.beat_count = 4\n",
    "        self.subbeat_count = 8\n",
    "    \n",
    "    def gen_random_sampls(self, voice_name):\n",
    "        percs = gen_random_percs(voice_name, self.beat_count, self.subbeat_count)\n",
    "        total_count = self.beat_count * self.subbeat_count\n",
    "        assert(len(percs) == total_count)\n",
    "\n",
    "        # sample choice algorithms\n",
    "        percs_samples = [random.choice(self.available_samples[voice_name])] * total_count\n",
    "        if random.random() < 0.1:\n",
    "            for note_idx in range(total_count):\n",
    "                percs_samples[note_idx] = random.choice(self.available_samples[voice_name])\n",
    "        elif random.random() < 0.2:\n",
    "            perc_sample2 = random.choice(self.available_samples[voice_name])\n",
    "            for note_idx in range(total_count):\n",
    "                if (note_idx // self.subbeat_count) % 2 == 1:\n",
    "                    percs_samples[note_idx] = perc_sample2\n",
    "\n",
    "        # rate algorithms\n",
    "        rates = [(random.random() * 0.6 - 0.3) + 1] * total_count\n",
    "        if random.random() < 0.1:\n",
    "            for note_idx in range(total_count):\n",
    "                rates[note_idx] = (random.random() * 0.6 - 0.3) + 1\n",
    "\n",
    "        # panning algorithms\n",
    "        pans = [0] * total_count\n",
    "        pan_scheme = random.random()\n",
    "        if pan_scheme < 1/4:\n",
    "            for note_idx in range(total_count):\n",
    "                pans[note_idx] = note_idx / total_count * 2 - 1\n",
    "            if random.random() < 0.5:\n",
    "                pans.reverse()\n",
    "        elif pan_scheme < 2/4:\n",
    "            for note_idx in range(total_count):\n",
    "                pans[note_idx] = (note_idx % self.subbeat_count) / self.subbeat_count * 2 - 1\n",
    "            if random.random() < 0.5:\n",
    "                pans.reverse()\n",
    "        elif pan_scheme < 3/4:\n",
    "            for note_idx in range(total_count):\n",
    "                pans[note_idx] = random.random() * 2 - 1\n",
    "\n",
    "        # low pass filter algorithms\n",
    "        lpfs = [20000] * total_count\n",
    "        lpf_scheme = random.random()\n",
    "        if lpf_scheme < 1/20:\n",
    "            for note_idx in range(total_count):\n",
    "                lpfs[note_idx] = (note_idx % self.subbeat_count) / self.subbeat_count\n",
    "                lpfs[note_idx] = lpfs[note_idx] * 19000 + 100\n",
    "            if random.random() < 0.5:\n",
    "                lpfs.reverse()\n",
    "        elif lpf_scheme < 2/20:\n",
    "            for note_idx in range(total_count):\n",
    "                lpfs[note_idx] = note_idx / total_count * 19000 + 100\n",
    "            if random.random() < 0.5:\n",
    "                lpfs.reverse()\n",
    "\n",
    "        t = self.coef / self.subbeat_count\n",
    "        notes = []\n",
    "        for note_idx, note in enumerate(percs):\n",
    "            if note != '.':\n",
    "                notes.append(Sample(percs_samples[note_idx],\n",
    "                                    dur=t,\n",
    "                                    rel=t * self.rel_coef,\n",
    "                                    ts=note_idx * t,\n",
    "                                    rate=rates[note_idx],\n",
    "                                    pan=pans[note_idx],\n",
    "                                    lpf=lpfs[note_idx]))\n",
    "        return notes\n",
    "    \n",
    "    def mutate_voice(self, voice_name):\n",
    "        if voice_name not in self.voice_names:\n",
    "            print('WARNING: wrong voice name %s' % voice_name)\n",
    "            return\n",
    "        notes = self.gen_random_sampls(voice_name)\n",
    "        self.set_voice(voice_name, notes)\n",
    "        if random.random() < self.mute_prob[voice_name]:\n",
    "            self.mute_voice(voice_name)\n",
    "        else:\n",
    "            self.unmute_voice(voice_name)\n",
    "\n",
    "    def manual_mutate_voice(self, voice_name):\n",
    "        self.mode = 'manual'\n",
    "        self.mutate_voice(voice_name)\n",
    "        self.unmute_voice(voice_name)\n",
    "\n",
    "    def mutate_on_autopilot(self):\n",
    "#         if random.random() < 0.1:\n",
    "#             self.coef = (random.random() * 2 - 1) * 0.3 + self.base_coef\n",
    "        self.cur_rep = (self.cur_rep + 1) % self.reps\n",
    "        if self.cur_rep != 0:\n",
    "            return\n",
    "        self.reps = random.randint(2, 4)\n",
    "        self.rel_coef = (0.25 + random.random()) * 10\n",
    "        change_count = 4\n",
    "        order_of_change = self.voice_names\n",
    "        just_started = False\n",
    "        if len(self.voices) == 0:\n",
    "            just_started = True\n",
    "        if len(self.voices) != 0:\n",
    "            change_count = random.choices(\n",
    "                population=[1, 2, 3,],# 4],\n",
    "                weights=[0.3, 0.6, 0.1],#, 0.1],\n",
    "                k=1)[0]\n",
    "            random.shuffle(order_of_change)\n",
    "        for i in range(change_count):\n",
    "            self.mutate_voice(order_of_change[i])\n",
    "        if just_started:\n",
    "            for voice_name in self.voice_names:\n",
    "                self.mute_voice(voice_name)\n",
    "            self.unmute_voice('hihat')\n",
    "        mute_count = 0\n",
    "        for voice in range(len(self.voices)):\n",
    "            if voice in self.muted:\n",
    "                mute_count += 1\n",
    "        if mute_count == len(self.voices):\n",
    "            for voice_name in self.voice_names:\n",
    "                self.unmute_voice(voice_name)\n",
    "\n",
    "    def return_to_autopilot(self):\n",
    "        self.mode = 'autopilot'\n",
    "\n",
    "    def restart(self):\n",
    "        self.events = []\n",
    "\n",
    "        # autopilot mode\n",
    "        if self.mode == 'autopilot':\n",
    "            self.mutate_on_autopilot()\n",
    "\n",
    "        last_ts = 0\n",
    "        for voice in range(len(self.voices)):\n",
    "            self.voices_sample[voice] = None\n",
    "            if ('new_notes' in self.voices[voice]) and self.voices[voice]['new_notes']:\n",
    "                self.voices[voice]['notes'] = self.voices[voice]['new_notes'].copy()\n",
    "                self.voices[voice]['new_notes'] = None\n",
    "            if 'notes' not in self.voices[voice]:\n",
    "                continue\n",
    "            for note in self.voices[voice]['notes']:\n",
    "                self.events.append((note.ts, note, voice))\n",
    "                last_ts = max(last_ts, note.ts + note.dur)\n",
    "        self.events.sort(key=compare_tuples)\n",
    "        self.events.append((last_ts, None, None))\n",
    "\n",
    "    def set_voice(self, voice_name, notes):\n",
    "        while len(self.voices) <= self.voice_idx[voice_name]:\n",
    "            self.voices.append({})\n",
    "            self.voices_sample.append(None)\n",
    "        self.voices[self.voice_idx[voice_name]]['new_notes'] = notes\n",
    "\n",
    "    def mute_voice(self, voice_name):\n",
    "        self.muted.add(self.voice_idx[voice_name])\n",
    "\n",
    "    def unmute_voice(self, voice_name):\n",
    "        if self.voice_idx[voice_name] in self.muted:\n",
    "            self.muted.remove(self.voice_idx[voice_name])\n",
    "    \n",
    "    def start(self, mode='autopilot'):\n",
    "        self.voices = []\n",
    "        self.voices_sample = []\n",
    "        self.events = [] # (ts, note, voice)\n",
    "        self.muted = set()\n",
    "        self.available_samples = {\n",
    "            'kick'  : [0,],\n",
    "            'snare' : [1,],\n",
    "            'hihat' : [3,],\n",
    "            'bass'  : [7,],\n",
    "        }\n",
    "\n",
    "        self.mode = mode\n",
    "        if not loop.is_playing:\n",
    "            loop.reset()\n",
    "            loop.play()\n",
    "\n",
    "    def stop(self):\n",
    "        printmd('Спасибо!')\n",
    "        loop.stop()\n"
   ]
  },
  {
   "cell_type": "code",
   "execution_count": 9,
   "id": "7a53102d",
   "metadata": {},
   "outputs": [],
   "source": [
    "proc = Processor()"
   ]
  },
  {
   "cell_type": "code",
   "execution_count": 10,
   "id": "e02dff7e",
   "metadata": {},
   "outputs": [],
   "source": [
    "from IPython.display import Markdown, display\n",
    "def printmd(string):\n",
    "    display(Markdown(string))\n",
    "\n",
    "def compare_tuples(item):\n",
    "    return item[0]\n",
    "\n",
    "@routine\n",
    "def loop():\n",
    "    global proc\n",
    "    idx = 0\n",
    "    cur_env_name = '0-движение'\n",
    "    cur_env_raw = (None, None)\n",
    "    while True:\n",
    "        if idx >= len(proc.events) - 1:\n",
    "            idx = 0\n",
    "            proc.restart()\n",
    "        if len(proc.events) < 2:\n",
    "            yield 1\n",
    "            continue\n",
    "        sleep_dur = proc.events[idx + 1][0] - proc.events[idx][0]\n",
    "        if sleep_dur < 0:\n",
    "            sleep_dur = 0\n",
    "        voice = proc.events[idx][2]\n",
    "        if voice not in proc.muted:\n",
    "            # FIXME\n",
    "            sample = proc.events[idx][1]\n",
    "            # amp, hpf, pos\n",
    "            smpl(sample.idx,\n",
    "                 rate=sample.rate, pan=sample.pan,\n",
    "                 rel=sample.rel, lpf=sample.lpf)\n",
    "            proc.voices_sample[voice] = sample.idx\n",
    "        idx += 1\n",
    "        if sleep_dur > 0:\n",
    "            smpls = []\n",
    "            for voice in range(len(proc.voices)):\n",
    "                if voice not in proc.muted and (proc.voices_sample[voice] is not None):\n",
    "                    smpls.append(proc.voices_sample[voice])\n",
    "            env_name, env_raw = analyze_sum(sum_smpls(smpls))\n",
    "            if env_name != cur_env_name:\n",
    "                printmd('<span style=\"font-family: Canela; font-size:2em;color:white;background-color:black\">%s</span>' % env_name)\n",
    "                cur_env_name = env_name\n",
    "            if env_raw != cur_env_raw:\n",
    "                printmd('<span style=\"font-family: Canela; font-size:2em;color:black;background-color:white\">%s</span>' % str(env_raw))\n",
    "                cur_env_raw = env_raw\n",
    "        yield sleep_dur"
   ]
  },
  {
   "cell_type": "code",
   "execution_count": 11,
   "id": "f099e4db",
   "metadata": {
    "scrolled": false
   },
   "outputs": [
    {
     "data": {
      "text/markdown": [
       "<span style=\"font-family: Canela; font-size:2em;color:white;background-color:black\">Среда второго порядка\n",
       "(-0.33 МнПро, 0.33 МксПрл)</span>"
      ],
      "text/plain": [
       "<IPython.core.display.Markdown object>"
      ]
     },
     "metadata": {},
     "output_type": "display_data"
    },
    {
     "data": {
      "text/markdown": [
       "<span style=\"font-family: Canela; font-size:2em;color:black;background-color:white\">('-0.33', '0.33')</span>"
      ],
      "text/plain": [
       "<IPython.core.display.Markdown object>"
      ]
     },
     "metadata": {},
     "output_type": "display_data"
    },
    {
     "name": "stdout",
     "output_type": "stream",
     "text": [
      "('-0.33', '0.33')\n"
     ]
    },
    {
     "data": {
      "text/markdown": [
       "<span style=\"font-family: Canela; font-size:2em;color:white;background-color:black\">Совпадение\n",
       "(-0.33 МнПро, -0.33 МксПрл)</span>"
      ],
      "text/plain": [
       "<IPython.core.display.Markdown object>"
      ]
     },
     "metadata": {},
     "output_type": "display_data"
    },
    {
     "data": {
      "text/markdown": [
       "<span style=\"font-family: Canela; font-size:2em;color:black;background-color:white\">('-0.33', '-0.33')</span>"
      ],
      "text/plain": [
       "<IPython.core.display.Markdown object>"
      ]
     },
     "metadata": {},
     "output_type": "display_data"
    },
    {
     "name": "stdout",
     "output_type": "stream",
     "text": [
      "('-0.33', '-0.33')\n"
     ]
    },
    {
     "data": {
      "text/markdown": [
       "<span style=\"font-family: Canela; font-size:2em;color:white;background-color:black\">Ухабистость</span>"
      ],
      "text/plain": [
       "<IPython.core.display.Markdown object>"
      ]
     },
     "metadata": {},
     "output_type": "display_data"
    },
    {
     "data": {
      "text/markdown": [
       "<span style=\"font-family: Canela; font-size:2em;color:black;background-color:white\">('-0.33', '-0.67')</span>"
      ],
      "text/plain": [
       "<IPython.core.display.Markdown object>"
      ]
     },
     "metadata": {},
     "output_type": "display_data"
    },
    {
     "name": "stdout",
     "output_type": "stream",
     "text": [
      "('-0.33', '-0.67')\n"
     ]
    },
    {
     "data": {
      "text/markdown": [
       "<span style=\"font-family: Canela; font-size:2em;color:white;background-color:black\">Совпадение\n",
       "(-0.33 МнПро, -0.33 МксПрл)</span>"
      ],
      "text/plain": [
       "<IPython.core.display.Markdown object>"
      ]
     },
     "metadata": {},
     "output_type": "display_data"
    },
    {
     "data": {
      "text/markdown": [
       "<span style=\"font-family: Canela; font-size:2em;color:black;background-color:white\">('-0.33', '-0.33')</span>"
      ],
      "text/plain": [
       "<IPython.core.display.Markdown object>"
      ]
     },
     "metadata": {},
     "output_type": "display_data"
    },
    {
     "name": "stdout",
     "output_type": "stream",
     "text": [
      "('-0.33', '-0.33')\n"
     ]
    },
    {
     "data": {
      "text/markdown": [
       "<span style=\"font-family: Canela; font-size:2em;color:white;background-color:black\">Ухабистость</span>"
      ],
      "text/plain": [
       "<IPython.core.display.Markdown object>"
      ]
     },
     "metadata": {},
     "output_type": "display_data"
    },
    {
     "data": {
      "text/markdown": [
       "<span style=\"font-family: Canela; font-size:2em;color:black;background-color:white\">('-0.33', '-0.67')</span>"
      ],
      "text/plain": [
       "<IPython.core.display.Markdown object>"
      ]
     },
     "metadata": {},
     "output_type": "display_data"
    },
    {
     "name": "stdout",
     "output_type": "stream",
     "text": [
      "('-0.33', '-0.67')\n"
     ]
    },
    {
     "data": {
      "text/markdown": [
       "<span style=\"font-family: Canela; font-size:2em;color:white;background-color:black\">Совпадение\n",
       "(-0.33 МнПро, -0.33 МксПрл)</span>"
      ],
      "text/plain": [
       "<IPython.core.display.Markdown object>"
      ]
     },
     "metadata": {},
     "output_type": "display_data"
    },
    {
     "data": {
      "text/markdown": [
       "<span style=\"font-family: Canela; font-size:2em;color:black;background-color:white\">('-0.33', '-0.33')</span>"
      ],
      "text/plain": [
       "<IPython.core.display.Markdown object>"
      ]
     },
     "metadata": {},
     "output_type": "display_data"
    },
    {
     "name": "stdout",
     "output_type": "stream",
     "text": [
      "('-0.33', '-0.33')\n"
     ]
    },
    {
     "data": {
      "text/markdown": [
       "<span style=\"font-family: Canela; font-size:2em;color:white;background-color:black\">Ухабистость</span>"
      ],
      "text/plain": [
       "<IPython.core.display.Markdown object>"
      ]
     },
     "metadata": {},
     "output_type": "display_data"
    },
    {
     "data": {
      "text/markdown": [
       "<span style=\"font-family: Canela; font-size:2em;color:black;background-color:white\">('-0.33', '-0.67')</span>"
      ],
      "text/plain": [
       "<IPython.core.display.Markdown object>"
      ]
     },
     "metadata": {},
     "output_type": "display_data"
    },
    {
     "name": "stdout",
     "output_type": "stream",
     "text": [
      "('-0.33', '-0.67')\n"
     ]
    },
    {
     "data": {
      "text/markdown": [
       "<span style=\"font-family: Canela; font-size:2em;color:white;background-color:black\">Совпадение\n",
       "(-0.33 МнПро, -0.33 МксПрл)</span>"
      ],
      "text/plain": [
       "<IPython.core.display.Markdown object>"
      ]
     },
     "metadata": {},
     "output_type": "display_data"
    },
    {
     "data": {
      "text/markdown": [
       "<span style=\"font-family: Canela; font-size:2em;color:black;background-color:white\">('-0.33', '-0.33')</span>"
      ],
      "text/plain": [
       "<IPython.core.display.Markdown object>"
      ]
     },
     "metadata": {},
     "output_type": "display_data"
    },
    {
     "name": "stdout",
     "output_type": "stream",
     "text": [
      "('-0.33', '-0.33')\n"
     ]
    },
    {
     "data": {
      "text/markdown": [
       "<span style=\"font-family: Canela; font-size:2em;color:white;background-color:black\">Среда второго порядка\n",
       "(-0.67 МнПро, 0 МксПрл)</span>"
      ],
      "text/plain": [
       "<IPython.core.display.Markdown object>"
      ]
     },
     "metadata": {},
     "output_type": "display_data"
    },
    {
     "data": {
      "text/markdown": [
       "<span style=\"font-family: Canela; font-size:2em;color:black;background-color:white\">('-0.67', '0')</span>"
      ],
      "text/plain": [
       "<IPython.core.display.Markdown object>"
      ]
     },
     "metadata": {},
     "output_type": "display_data"
    },
    {
     "name": "stdout",
     "output_type": "stream",
     "text": [
      "('-0.67', '0')\n"
     ]
    },
    {
     "data": {
      "text/markdown": [
       "<span style=\"font-family: Canela; font-size:2em;color:white;background-color:black\">Среда второго порядка\n",
       "(-0.67 МнПро, 0.33 МксПрл)</span>"
      ],
      "text/plain": [
       "<IPython.core.display.Markdown object>"
      ]
     },
     "metadata": {},
     "output_type": "display_data"
    },
    {
     "data": {
      "text/markdown": [
       "<span style=\"font-family: Canela; font-size:2em;color:black;background-color:white\">('-0.67', '0.33')</span>"
      ],
      "text/plain": [
       "<IPython.core.display.Markdown object>"
      ]
     },
     "metadata": {},
     "output_type": "display_data"
    },
    {
     "name": "stdout",
     "output_type": "stream",
     "text": [
      "('-0.67', '0.33')\n"
     ]
    },
    {
     "data": {
      "text/markdown": [
       "<span style=\"font-family: Canela; font-size:2em;color:white;background-color:black\">Среда второго порядка\n",
       "(-0.67 МнПро, 0 МксПрл)</span>"
      ],
      "text/plain": [
       "<IPython.core.display.Markdown object>"
      ]
     },
     "metadata": {},
     "output_type": "display_data"
    },
    {
     "data": {
      "text/markdown": [
       "<span style=\"font-family: Canela; font-size:2em;color:black;background-color:white\">('-0.67', '0')</span>"
      ],
      "text/plain": [
       "<IPython.core.display.Markdown object>"
      ]
     },
     "metadata": {},
     "output_type": "display_data"
    },
    {
     "name": "stdout",
     "output_type": "stream",
     "text": [
      "('-0.67', '0')\n"
     ]
    },
    {
     "data": {
      "text/markdown": [
       "<span style=\"font-family: Canela; font-size:2em;color:white;background-color:black\">Среда второго порядка\n",
       "(-0.67 МнПро, 0.33 МксПрл)</span>"
      ],
      "text/plain": [
       "<IPython.core.display.Markdown object>"
      ]
     },
     "metadata": {},
     "output_type": "display_data"
    },
    {
     "data": {
      "text/markdown": [
       "<span style=\"font-family: Canela; font-size:2em;color:black;background-color:white\">('-0.67', '0.33')</span>"
      ],
      "text/plain": [
       "<IPython.core.display.Markdown object>"
      ]
     },
     "metadata": {},
     "output_type": "display_data"
    },
    {
     "name": "stdout",
     "output_type": "stream",
     "text": [
      "('-0.67', '0.33')\n"
     ]
    },
    {
     "data": {
      "text/markdown": [
       "<span style=\"font-family: Canela; font-size:2em;color:white;background-color:black\">Среда второго порядка\n",
       "(-0.67 МнПро, 0 МксПрл)</span>"
      ],
      "text/plain": [
       "<IPython.core.display.Markdown object>"
      ]
     },
     "metadata": {},
     "output_type": "display_data"
    },
    {
     "data": {
      "text/markdown": [
       "<span style=\"font-family: Canela; font-size:2em;color:black;background-color:white\">('-0.67', '0')</span>"
      ],
      "text/plain": [
       "<IPython.core.display.Markdown object>"
      ]
     },
     "metadata": {},
     "output_type": "display_data"
    },
    {
     "name": "stdout",
     "output_type": "stream",
     "text": [
      "('-0.67', '0')\n"
     ]
    },
    {
     "data": {
      "text/markdown": [
       "<span style=\"font-family: Canela; font-size:2em;color:white;background-color:black\">Среда второго порядка\n",
       "(-0.67 МнПро, 0.33 МксПрл)</span>"
      ],
      "text/plain": [
       "<IPython.core.display.Markdown object>"
      ]
     },
     "metadata": {},
     "output_type": "display_data"
    },
    {
     "data": {
      "text/markdown": [
       "<span style=\"font-family: Canela; font-size:2em;color:black;background-color:white\">('-0.67', '0.33')</span>"
      ],
      "text/plain": [
       "<IPython.core.display.Markdown object>"
      ]
     },
     "metadata": {},
     "output_type": "display_data"
    },
    {
     "name": "stdout",
     "output_type": "stream",
     "text": [
      "('-0.67', '0.33')\n"
     ]
    },
    {
     "data": {
      "text/markdown": [
       "<span style=\"font-family: Canela; font-size:2em;color:white;background-color:black\">Среда второго порядка\n",
       "(-1 МнПро, 0.33 МксПрл)</span>"
      ],
      "text/plain": [
       "<IPython.core.display.Markdown object>"
      ]
     },
     "metadata": {},
     "output_type": "display_data"
    },
    {
     "data": {
      "text/markdown": [
       "<span style=\"font-family: Canela; font-size:2em;color:black;background-color:white\">('-1', '0.33')</span>"
      ],
      "text/plain": [
       "<IPython.core.display.Markdown object>"
      ]
     },
     "metadata": {},
     "output_type": "display_data"
    },
    {
     "name": "stdout",
     "output_type": "stream",
     "text": [
      "('-1', '0.33')\n"
     ]
    },
    {
     "data": {
      "text/markdown": [
       "<span style=\"font-family: Canela; font-size:2em;color:white;background-color:black\">Выталкивание</span>"
      ],
      "text/plain": [
       "<IPython.core.display.Markdown object>"
      ]
     },
     "metadata": {},
     "output_type": "display_data"
    },
    {
     "data": {
      "text/markdown": [
       "<span style=\"font-family: Canela; font-size:2em;color:black;background-color:white\">('-0.67', '-0.33')</span>"
      ],
      "text/plain": [
       "<IPython.core.display.Markdown object>"
      ]
     },
     "metadata": {},
     "output_type": "display_data"
    },
    {
     "name": "stdout",
     "output_type": "stream",
     "text": [
      "('-0.67', '-0.33')\n"
     ]
    },
    {
     "data": {
      "text/markdown": [
       "<span style=\"font-family: Canela; font-size:2em;color:white;background-color:black\">Среда второго порядка\n",
       "(-1 МнПро, 0.33 МксПрл)</span>"
      ],
      "text/plain": [
       "<IPython.core.display.Markdown object>"
      ]
     },
     "metadata": {},
     "output_type": "display_data"
    },
    {
     "data": {
      "text/markdown": [
       "<span style=\"font-family: Canela; font-size:2em;color:black;background-color:white\">('-1', '0.33')</span>"
      ],
      "text/plain": [
       "<IPython.core.display.Markdown object>"
      ]
     },
     "metadata": {},
     "output_type": "display_data"
    },
    {
     "name": "stdout",
     "output_type": "stream",
     "text": [
      "('-1', '0.33')\n"
     ]
    },
    {
     "data": {
      "text/markdown": [
       "<span style=\"font-family: Canela; font-size:2em;color:white;background-color:black\">Выталкивание</span>"
      ],
      "text/plain": [
       "<IPython.core.display.Markdown object>"
      ]
     },
     "metadata": {},
     "output_type": "display_data"
    },
    {
     "data": {
      "text/markdown": [
       "<span style=\"font-family: Canela; font-size:2em;color:black;background-color:white\">('-0.67', '-0.33')</span>"
      ],
      "text/plain": [
       "<IPython.core.display.Markdown object>"
      ]
     },
     "metadata": {},
     "output_type": "display_data"
    },
    {
     "name": "stdout",
     "output_type": "stream",
     "text": [
      "('-0.67', '-0.33')\n"
     ]
    },
    {
     "data": {
      "text/markdown": [
       "<span style=\"font-family: Canela; font-size:2em;color:white;background-color:black\">Среда второго порядка\n",
       "(-1 МнПро, 0.33 МксПрл)</span>"
      ],
      "text/plain": [
       "<IPython.core.display.Markdown object>"
      ]
     },
     "metadata": {},
     "output_type": "display_data"
    },
    {
     "data": {
      "text/markdown": [
       "<span style=\"font-family: Canela; font-size:2em;color:black;background-color:white\">('-1', '0.33')</span>"
      ],
      "text/plain": [
       "<IPython.core.display.Markdown object>"
      ]
     },
     "metadata": {},
     "output_type": "display_data"
    },
    {
     "name": "stdout",
     "output_type": "stream",
     "text": [
      "('-1', '0.33')\n"
     ]
    },
    {
     "data": {
      "text/markdown": [
       "<span style=\"font-family: Canela; font-size:2em;color:white;background-color:black\">Выталкивание</span>"
      ],
      "text/plain": [
       "<IPython.core.display.Markdown object>"
      ]
     },
     "metadata": {},
     "output_type": "display_data"
    },
    {
     "data": {
      "text/markdown": [
       "<span style=\"font-family: Canela; font-size:2em;color:black;background-color:white\">('-0.67', '-0.33')</span>"
      ],
      "text/plain": [
       "<IPython.core.display.Markdown object>"
      ]
     },
     "metadata": {},
     "output_type": "display_data"
    },
    {
     "name": "stdout",
     "output_type": "stream",
     "text": [
      "('-0.67', '-0.33')\n"
     ]
    },
    {
     "data": {
      "text/markdown": [
       "<span style=\"font-family: Canela; font-size:2em;color:white;background-color:black\">Среда второго порядка\n",
       "(-0.67 МнПро, 0.33 МксПрл)</span>"
      ],
      "text/plain": [
       "<IPython.core.display.Markdown object>"
      ]
     },
     "metadata": {},
     "output_type": "display_data"
    },
    {
     "data": {
      "text/markdown": [
       "<span style=\"font-family: Canela; font-size:2em;color:black;background-color:white\">('-0.67', '0.33')</span>"
      ],
      "text/plain": [
       "<IPython.core.display.Markdown object>"
      ]
     },
     "metadata": {},
     "output_type": "display_data"
    },
    {
     "name": "stdout",
     "output_type": "stream",
     "text": [
      "('-0.67', '0.33')\n"
     ]
    },
    {
     "data": {
      "text/markdown": [
       "<span style=\"font-family: Canela; font-size:2em;color:white;background-color:black\">Выталкивание</span>"
      ],
      "text/plain": [
       "<IPython.core.display.Markdown object>"
      ]
     },
     "metadata": {},
     "output_type": "display_data"
    },
    {
     "data": {
      "text/markdown": [
       "<span style=\"font-family: Canela; font-size:2em;color:black;background-color:white\">('-0.67', '-0.33')</span>"
      ],
      "text/plain": [
       "<IPython.core.display.Markdown object>"
      ]
     },
     "metadata": {},
     "output_type": "display_data"
    },
    {
     "name": "stdout",
     "output_type": "stream",
     "text": [
      "('-0.67', '-0.33')\n"
     ]
    },
    {
     "data": {
      "text/markdown": [
       "<span style=\"font-family: Canela; font-size:2em;color:white;background-color:black\">Среда второго порядка\n",
       "(-0.67 МнПро, 0.33 МксПрл)</span>"
      ],
      "text/plain": [
       "<IPython.core.display.Markdown object>"
      ]
     },
     "metadata": {},
     "output_type": "display_data"
    },
    {
     "data": {
      "text/markdown": [
       "<span style=\"font-family: Canela; font-size:2em;color:black;background-color:white\">('-0.67', '0.33')</span>"
      ],
      "text/plain": [
       "<IPython.core.display.Markdown object>"
      ]
     },
     "metadata": {},
     "output_type": "display_data"
    },
    {
     "name": "stdout",
     "output_type": "stream",
     "text": [
      "('-0.67', '0.33')\n"
     ]
    },
    {
     "data": {
      "text/markdown": [
       "<span style=\"font-family: Canela; font-size:2em;color:white;background-color:black\">Выталкивание</span>"
      ],
      "text/plain": [
       "<IPython.core.display.Markdown object>"
      ]
     },
     "metadata": {},
     "output_type": "display_data"
    },
    {
     "data": {
      "text/markdown": [
       "<span style=\"font-family: Canela; font-size:2em;color:black;background-color:white\">('-0.67', '-0.33')</span>"
      ],
      "text/plain": [
       "<IPython.core.display.Markdown object>"
      ]
     },
     "metadata": {},
     "output_type": "display_data"
    },
    {
     "name": "stdout",
     "output_type": "stream",
     "text": [
      "('-0.67', '-0.33')\n"
     ]
    },
    {
     "data": {
      "text/markdown": [
       "<span style=\"font-family: Canela; font-size:2em;color:white;background-color:black\">Среда второго порядка\n",
       "(-0.67 МнПро, 0.33 МксПрл)</span>"
      ],
      "text/plain": [
       "<IPython.core.display.Markdown object>"
      ]
     },
     "metadata": {},
     "output_type": "display_data"
    },
    {
     "data": {
      "text/markdown": [
       "<span style=\"font-family: Canela; font-size:2em;color:black;background-color:white\">('-0.67', '0.33')</span>"
      ],
      "text/plain": [
       "<IPython.core.display.Markdown object>"
      ]
     },
     "metadata": {},
     "output_type": "display_data"
    },
    {
     "name": "stdout",
     "output_type": "stream",
     "text": [
      "('-0.67', '0.33')\n"
     ]
    },
    {
     "data": {
      "text/markdown": [
       "<span style=\"font-family: Canela; font-size:2em;color:white;background-color:black\">Выталкивание</span>"
      ],
      "text/plain": [
       "<IPython.core.display.Markdown object>"
      ]
     },
     "metadata": {},
     "output_type": "display_data"
    },
    {
     "data": {
      "text/markdown": [
       "<span style=\"font-family: Canela; font-size:2em;color:black;background-color:white\">('-0.67', '-0.33')</span>"
      ],
      "text/plain": [
       "<IPython.core.display.Markdown object>"
      ]
     },
     "metadata": {},
     "output_type": "display_data"
    },
    {
     "name": "stdout",
     "output_type": "stream",
     "text": [
      "('-0.67', '-0.33')\n"
     ]
    },
    {
     "data": {
      "text/markdown": [
       "<span style=\"font-family: Canela; font-size:2em;color:white;background-color:black\">Совпадение\n",
       "(-0.33 МнПро, -0.33 МксПрл)</span>"
      ],
      "text/plain": [
       "<IPython.core.display.Markdown object>"
      ]
     },
     "metadata": {},
     "output_type": "display_data"
    },
    {
     "data": {
      "text/markdown": [
       "<span style=\"font-family: Canela; font-size:2em;color:black;background-color:white\">('-0.33', '-0.33')</span>"
      ],
      "text/plain": [
       "<IPython.core.display.Markdown object>"
      ]
     },
     "metadata": {},
     "output_type": "display_data"
    },
    {
     "name": "stdout",
     "output_type": "stream",
     "text": [
      "('-0.33', '-0.33')\n"
     ]
    },
    {
     "data": {
      "text/markdown": [
       "<span style=\"font-family: Canela; font-size:2em;color:white;background-color:black\">Выталкивание</span>"
      ],
      "text/plain": [
       "<IPython.core.display.Markdown object>"
      ]
     },
     "metadata": {},
     "output_type": "display_data"
    },
    {
     "data": {
      "text/markdown": [
       "<span style=\"font-family: Canela; font-size:2em;color:black;background-color:white\">('-0.67', '-0.33')</span>"
      ],
      "text/plain": [
       "<IPython.core.display.Markdown object>"
      ]
     },
     "metadata": {},
     "output_type": "display_data"
    },
    {
     "name": "stdout",
     "output_type": "stream",
     "text": [
      "('-0.67', '-0.33')\n"
     ]
    },
    {
     "data": {
      "text/markdown": [
       "<span style=\"font-family: Canela; font-size:2em;color:white;background-color:black\">Совпадение\n",
       "(-0.33 МнПро, -0.33 МксПрл)</span>"
      ],
      "text/plain": [
       "<IPython.core.display.Markdown object>"
      ]
     },
     "metadata": {},
     "output_type": "display_data"
    },
    {
     "data": {
      "text/markdown": [
       "<span style=\"font-family: Canela; font-size:2em;color:black;background-color:white\">('-0.33', '-0.33')</span>"
      ],
      "text/plain": [
       "<IPython.core.display.Markdown object>"
      ]
     },
     "metadata": {},
     "output_type": "display_data"
    },
    {
     "name": "stdout",
     "output_type": "stream",
     "text": [
      "('-0.33', '-0.33')\n"
     ]
    },
    {
     "data": {
      "text/markdown": [
       "<span style=\"font-family: Canela; font-size:2em;color:white;background-color:black\">Выталкивание</span>"
      ],
      "text/plain": [
       "<IPython.core.display.Markdown object>"
      ]
     },
     "metadata": {},
     "output_type": "display_data"
    },
    {
     "data": {
      "text/markdown": [
       "<span style=\"font-family: Canela; font-size:2em;color:black;background-color:white\">('-0.67', '-0.33')</span>"
      ],
      "text/plain": [
       "<IPython.core.display.Markdown object>"
      ]
     },
     "metadata": {},
     "output_type": "display_data"
    },
    {
     "name": "stdout",
     "output_type": "stream",
     "text": [
      "('-0.67', '-0.33')\n"
     ]
    },
    {
     "data": {
      "text/markdown": [
       "<span style=\"font-family: Canela; font-size:2em;color:white;background-color:black\">Совпадение\n",
       "(-0.33 МнПро, -0.33 МксПрл)</span>"
      ],
      "text/plain": [
       "<IPython.core.display.Markdown object>"
      ]
     },
     "metadata": {},
     "output_type": "display_data"
    },
    {
     "data": {
      "text/markdown": [
       "<span style=\"font-family: Canela; font-size:2em;color:black;background-color:white\">('-0.33', '-0.33')</span>"
      ],
      "text/plain": [
       "<IPython.core.display.Markdown object>"
      ]
     },
     "metadata": {},
     "output_type": "display_data"
    },
    {
     "name": "stdout",
     "output_type": "stream",
     "text": [
      "('-0.33', '-0.33')\n"
     ]
    },
    {
     "data": {
      "text/markdown": [
       "<span style=\"font-family: Canela; font-size:2em;color:white;background-color:black\">Выталкивание</span>"
      ],
      "text/plain": [
       "<IPython.core.display.Markdown object>"
      ]
     },
     "metadata": {},
     "output_type": "display_data"
    },
    {
     "data": {
      "text/markdown": [
       "<span style=\"font-family: Canela; font-size:2em;color:black;background-color:white\">('-0.67', '-0.33')</span>"
      ],
      "text/plain": [
       "<IPython.core.display.Markdown object>"
      ]
     },
     "metadata": {},
     "output_type": "display_data"
    },
    {
     "name": "stdout",
     "output_type": "stream",
     "text": [
      "('-0.67', '-0.33')\n"
     ]
    },
    {
     "data": {
      "text/markdown": [
       "<span style=\"font-family: Canela; font-size:2em;color:white;background-color:black\">Совпадение\n",
       "(-0.33 МнПро, -0.33 МксПрл)</span>"
      ],
      "text/plain": [
       "<IPython.core.display.Markdown object>"
      ]
     },
     "metadata": {},
     "output_type": "display_data"
    },
    {
     "data": {
      "text/markdown": [
       "<span style=\"font-family: Canela; font-size:2em;color:black;background-color:white\">('-0.33', '-0.33')</span>"
      ],
      "text/plain": [
       "<IPython.core.display.Markdown object>"
      ]
     },
     "metadata": {},
     "output_type": "display_data"
    },
    {
     "name": "stdout",
     "output_type": "stream",
     "text": [
      "('-0.33', '-0.33')\n"
     ]
    },
    {
     "data": {
      "text/markdown": [
       "<span style=\"font-family: Canela; font-size:2em;color:white;background-color:black\">Выталкивание</span>"
      ],
      "text/plain": [
       "<IPython.core.display.Markdown object>"
      ]
     },
     "metadata": {},
     "output_type": "display_data"
    },
    {
     "data": {
      "text/markdown": [
       "<span style=\"font-family: Canela; font-size:2em;color:black;background-color:white\">('-0.67', '-0.33')</span>"
      ],
      "text/plain": [
       "<IPython.core.display.Markdown object>"
      ]
     },
     "metadata": {},
     "output_type": "display_data"
    },
    {
     "name": "stdout",
     "output_type": "stream",
     "text": [
      "('-0.67', '-0.33')\n"
     ]
    },
    {
     "data": {
      "text/markdown": [
       "<span style=\"font-family: Canela; font-size:2em;color:white;background-color:black\">Среда второго порядка\n",
       "(-0.67 МнПро, 0.33 МксПрл)</span>"
      ],
      "text/plain": [
       "<IPython.core.display.Markdown object>"
      ]
     },
     "metadata": {},
     "output_type": "display_data"
    },
    {
     "data": {
      "text/markdown": [
       "<span style=\"font-family: Canela; font-size:2em;color:black;background-color:white\">('-0.67', '0.33')</span>"
      ],
      "text/plain": [
       "<IPython.core.display.Markdown object>"
      ]
     },
     "metadata": {},
     "output_type": "display_data"
    },
    {
     "name": "stdout",
     "output_type": "stream",
     "text": [
      "('-0.67', '0.33')\n"
     ]
    },
    {
     "data": {
      "text/markdown": [
       "<span style=\"font-family: Canela; font-size:2em;color:white;background-color:black\">Среда второго порядка\n",
       "(-1 МнПро, 0.33 МксПрл)</span>"
      ],
      "text/plain": [
       "<IPython.core.display.Markdown object>"
      ]
     },
     "metadata": {},
     "output_type": "display_data"
    },
    {
     "data": {
      "text/markdown": [
       "<span style=\"font-family: Canela; font-size:2em;color:black;background-color:white\">('-1', '0.33')</span>"
      ],
      "text/plain": [
       "<IPython.core.display.Markdown object>"
      ]
     },
     "metadata": {},
     "output_type": "display_data"
    },
    {
     "name": "stdout",
     "output_type": "stream",
     "text": [
      "('-1', '0.33')\n"
     ]
    },
    {
     "data": {
      "text/markdown": [
       "<span style=\"font-family: Canela; font-size:2em;color:white;background-color:black\">Выталкивание</span>"
      ],
      "text/plain": [
       "<IPython.core.display.Markdown object>"
      ]
     },
     "metadata": {},
     "output_type": "display_data"
    },
    {
     "data": {
      "text/markdown": [
       "<span style=\"font-family: Canela; font-size:2em;color:black;background-color:white\">('-0.67', '-0.33')</span>"
      ],
      "text/plain": [
       "<IPython.core.display.Markdown object>"
      ]
     },
     "metadata": {},
     "output_type": "display_data"
    },
    {
     "name": "stdout",
     "output_type": "stream",
     "text": [
      "('-0.67', '-0.33')\n"
     ]
    },
    {
     "data": {
      "text/markdown": [
       "<span style=\"font-family: Canela; font-size:2em;color:white;background-color:black\">Среда второго порядка\n",
       "(-0.67 МнПро, 0.33 МксПрл)</span>"
      ],
      "text/plain": [
       "<IPython.core.display.Markdown object>"
      ]
     },
     "metadata": {},
     "output_type": "display_data"
    },
    {
     "data": {
      "text/markdown": [
       "<span style=\"font-family: Canela; font-size:2em;color:black;background-color:white\">('-0.67', '0.33')</span>"
      ],
      "text/plain": [
       "<IPython.core.display.Markdown object>"
      ]
     },
     "metadata": {},
     "output_type": "display_data"
    },
    {
     "name": "stdout",
     "output_type": "stream",
     "text": [
      "('-0.67', '0.33')\n"
     ]
    },
    {
     "data": {
      "text/markdown": [
       "<span style=\"font-family: Canela; font-size:2em;color:white;background-color:black\">Среда второго порядка\n",
       "(-1 МнПро, 0.33 МксПрл)</span>"
      ],
      "text/plain": [
       "<IPython.core.display.Markdown object>"
      ]
     },
     "metadata": {},
     "output_type": "display_data"
    },
    {
     "data": {
      "text/markdown": [
       "<span style=\"font-family: Canela; font-size:2em;color:black;background-color:white\">('-1', '0.33')</span>"
      ],
      "text/plain": [
       "<IPython.core.display.Markdown object>"
      ]
     },
     "metadata": {},
     "output_type": "display_data"
    },
    {
     "name": "stdout",
     "output_type": "stream",
     "text": [
      "('-1', '0.33')\n"
     ]
    },
    {
     "data": {
      "text/markdown": [
       "<span style=\"font-family: Canela; font-size:2em;color:white;background-color:black\">Выталкивание</span>"
      ],
      "text/plain": [
       "<IPython.core.display.Markdown object>"
      ]
     },
     "metadata": {},
     "output_type": "display_data"
    },
    {
     "data": {
      "text/markdown": [
       "<span style=\"font-family: Canela; font-size:2em;color:black;background-color:white\">('-0.67', '-0.33')</span>"
      ],
      "text/plain": [
       "<IPython.core.display.Markdown object>"
      ]
     },
     "metadata": {},
     "output_type": "display_data"
    },
    {
     "name": "stdout",
     "output_type": "stream",
     "text": [
      "('-0.67', '-0.33')\n"
     ]
    },
    {
     "data": {
      "text/markdown": [
       "<span style=\"font-family: Canela; font-size:2em;color:white;background-color:black\">Среда второго порядка\n",
       "(-0.67 МнПро, 0.33 МксПрл)</span>"
      ],
      "text/plain": [
       "<IPython.core.display.Markdown object>"
      ]
     },
     "metadata": {},
     "output_type": "display_data"
    },
    {
     "data": {
      "text/markdown": [
       "<span style=\"font-family: Canela; font-size:2em;color:black;background-color:white\">('-0.67', '0.33')</span>"
      ],
      "text/plain": [
       "<IPython.core.display.Markdown object>"
      ]
     },
     "metadata": {},
     "output_type": "display_data"
    },
    {
     "name": "stdout",
     "output_type": "stream",
     "text": [
      "('-0.67', '0.33')\n"
     ]
    },
    {
     "data": {
      "text/markdown": [
       "<span style=\"font-family: Canela; font-size:2em;color:white;background-color:black\">Среда второго порядка\n",
       "(-1 МнПро, 0.33 МксПрл)</span>"
      ],
      "text/plain": [
       "<IPython.core.display.Markdown object>"
      ]
     },
     "metadata": {},
     "output_type": "display_data"
    },
    {
     "data": {
      "text/markdown": [
       "<span style=\"font-family: Canela; font-size:2em;color:black;background-color:white\">('-1', '0.33')</span>"
      ],
      "text/plain": [
       "<IPython.core.display.Markdown object>"
      ]
     },
     "metadata": {},
     "output_type": "display_data"
    },
    {
     "name": "stdout",
     "output_type": "stream",
     "text": [
      "('-1', '0.33')\n"
     ]
    },
    {
     "data": {
      "text/markdown": [
       "<span style=\"font-family: Canela; font-size:2em;color:white;background-color:black\">Выталкивание</span>"
      ],
      "text/plain": [
       "<IPython.core.display.Markdown object>"
      ]
     },
     "metadata": {},
     "output_type": "display_data"
    },
    {
     "data": {
      "text/markdown": [
       "<span style=\"font-family: Canela; font-size:2em;color:black;background-color:white\">('-0.67', '-0.33')</span>"
      ],
      "text/plain": [
       "<IPython.core.display.Markdown object>"
      ]
     },
     "metadata": {},
     "output_type": "display_data"
    },
    {
     "name": "stdout",
     "output_type": "stream",
     "text": [
      "('-0.67', '-0.33')\n"
     ]
    },
    {
     "data": {
      "text/markdown": [
       "<span style=\"font-family: Canela; font-size:2em;color:white;background-color:black\">Среда второго порядка\n",
       "(-0.67 МнПро, 0.33 МксПрл)</span>"
      ],
      "text/plain": [
       "<IPython.core.display.Markdown object>"
      ]
     },
     "metadata": {},
     "output_type": "display_data"
    },
    {
     "data": {
      "text/markdown": [
       "<span style=\"font-family: Canela; font-size:2em;color:black;background-color:white\">('-0.67', '0.33')</span>"
      ],
      "text/plain": [
       "<IPython.core.display.Markdown object>"
      ]
     },
     "metadata": {},
     "output_type": "display_data"
    },
    {
     "name": "stdout",
     "output_type": "stream",
     "text": [
      "('-0.67', '0.33')\n"
     ]
    },
    {
     "data": {
      "text/markdown": [
       "<span style=\"font-family: Canela; font-size:2em;color:white;background-color:black\">Среда второго порядка\n",
       "(-1 МнПро, 0.33 МксПрл)</span>"
      ],
      "text/plain": [
       "<IPython.core.display.Markdown object>"
      ]
     },
     "metadata": {},
     "output_type": "display_data"
    },
    {
     "data": {
      "text/markdown": [
       "<span style=\"font-family: Canela; font-size:2em;color:black;background-color:white\">('-1', '0.33')</span>"
      ],
      "text/plain": [
       "<IPython.core.display.Markdown object>"
      ]
     },
     "metadata": {},
     "output_type": "display_data"
    },
    {
     "name": "stdout",
     "output_type": "stream",
     "text": [
      "('-1', '0.33')\n"
     ]
    },
    {
     "data": {
      "text/markdown": [
       "<span style=\"font-family: Canela; font-size:2em;color:white;background-color:black\">Выталкивание</span>"
      ],
      "text/plain": [
       "<IPython.core.display.Markdown object>"
      ]
     },
     "metadata": {},
     "output_type": "display_data"
    },
    {
     "data": {
      "text/markdown": [
       "<span style=\"font-family: Canela; font-size:2em;color:black;background-color:white\">('-0.67', '-0.33')</span>"
      ],
      "text/plain": [
       "<IPython.core.display.Markdown object>"
      ]
     },
     "metadata": {},
     "output_type": "display_data"
    },
    {
     "name": "stdout",
     "output_type": "stream",
     "text": [
      "('-0.67', '-0.33')\n"
     ]
    },
    {
     "data": {
      "text/markdown": [
       "<span style=\"font-family: Canela; font-size:2em;color:white;background-color:black\">Среда второго порядка\n",
       "(-0.67 МнПро, 0.33 МксПрл)</span>"
      ],
      "text/plain": [
       "<IPython.core.display.Markdown object>"
      ]
     },
     "metadata": {},
     "output_type": "display_data"
    },
    {
     "data": {
      "text/markdown": [
       "<span style=\"font-family: Canela; font-size:2em;color:black;background-color:white\">('-0.67', '0.33')</span>"
      ],
      "text/plain": [
       "<IPython.core.display.Markdown object>"
      ]
     },
     "metadata": {},
     "output_type": "display_data"
    },
    {
     "name": "stdout",
     "output_type": "stream",
     "text": [
      "('-0.67', '0.33')\n"
     ]
    },
    {
     "data": {
      "text/markdown": [
       "<span style=\"font-family: Canela; font-size:2em;color:white;background-color:black\">Среда второго порядка\n",
       "(-1 МнПро, 0.33 МксПрл)</span>"
      ],
      "text/plain": [
       "<IPython.core.display.Markdown object>"
      ]
     },
     "metadata": {},
     "output_type": "display_data"
    },
    {
     "data": {
      "text/markdown": [
       "<span style=\"font-family: Canela; font-size:2em;color:black;background-color:white\">('-1', '0.33')</span>"
      ],
      "text/plain": [
       "<IPython.core.display.Markdown object>"
      ]
     },
     "metadata": {},
     "output_type": "display_data"
    },
    {
     "name": "stdout",
     "output_type": "stream",
     "text": [
      "('-1', '0.33')\n"
     ]
    },
    {
     "data": {
      "text/markdown": [
       "<span style=\"font-family: Canela; font-size:2em;color:white;background-color:black\">Выталкивание</span>"
      ],
      "text/plain": [
       "<IPython.core.display.Markdown object>"
      ]
     },
     "metadata": {},
     "output_type": "display_data"
    },
    {
     "data": {
      "text/markdown": [
       "<span style=\"font-family: Canela; font-size:2em;color:black;background-color:white\">('-0.67', '-0.33')</span>"
      ],
      "text/plain": [
       "<IPython.core.display.Markdown object>"
      ]
     },
     "metadata": {},
     "output_type": "display_data"
    },
    {
     "name": "stdout",
     "output_type": "stream",
     "text": [
      "('-0.67', '-0.33')\n"
     ]
    },
    {
     "data": {
      "text/markdown": [
       "<span style=\"font-family: Canela; font-size:2em;color:white;background-color:black\">Среда второго порядка\n",
       "(-0.67 МнПро, 0.33 МксПрл)</span>"
      ],
      "text/plain": [
       "<IPython.core.display.Markdown object>"
      ]
     },
     "metadata": {},
     "output_type": "display_data"
    },
    {
     "data": {
      "text/markdown": [
       "<span style=\"font-family: Canela; font-size:2em;color:black;background-color:white\">('-0.67', '0.33')</span>"
      ],
      "text/plain": [
       "<IPython.core.display.Markdown object>"
      ]
     },
     "metadata": {},
     "output_type": "display_data"
    },
    {
     "name": "stdout",
     "output_type": "stream",
     "text": [
      "('-0.67', '0.33')\n"
     ]
    },
    {
     "data": {
      "text/markdown": [
       "<span style=\"font-family: Canela; font-size:2em;color:white;background-color:black\">Среда второго порядка\n",
       "(-1 МнПро, 0.33 МксПрл)</span>"
      ],
      "text/plain": [
       "<IPython.core.display.Markdown object>"
      ]
     },
     "metadata": {},
     "output_type": "display_data"
    },
    {
     "data": {
      "text/markdown": [
       "<span style=\"font-family: Canela; font-size:2em;color:black;background-color:white\">('-1', '0.33')</span>"
      ],
      "text/plain": [
       "<IPython.core.display.Markdown object>"
      ]
     },
     "metadata": {},
     "output_type": "display_data"
    },
    {
     "name": "stdout",
     "output_type": "stream",
     "text": [
      "('-1', '0.33')\n"
     ]
    },
    {
     "data": {
      "text/markdown": [
       "<span style=\"font-family: Canela; font-size:2em;color:white;background-color:black\">Выталкивание</span>"
      ],
      "text/plain": [
       "<IPython.core.display.Markdown object>"
      ]
     },
     "metadata": {},
     "output_type": "display_data"
    },
    {
     "data": {
      "text/markdown": [
       "<span style=\"font-family: Canela; font-size:2em;color:black;background-color:white\">('-0.67', '-0.33')</span>"
      ],
      "text/plain": [
       "<IPython.core.display.Markdown object>"
      ]
     },
     "metadata": {},
     "output_type": "display_data"
    },
    {
     "name": "stdout",
     "output_type": "stream",
     "text": [
      "('-0.67', '-0.33')\n"
     ]
    },
    {
     "data": {
      "text/markdown": [
       "<span style=\"font-family: Canela; font-size:2em;color:white;background-color:black\">Среда второго порядка\n",
       "(-0.67 МнПро, 0.33 МксПрл)</span>"
      ],
      "text/plain": [
       "<IPython.core.display.Markdown object>"
      ]
     },
     "metadata": {},
     "output_type": "display_data"
    },
    {
     "data": {
      "text/markdown": [
       "<span style=\"font-family: Canela; font-size:2em;color:black;background-color:white\">('-0.67', '0.33')</span>"
      ],
      "text/plain": [
       "<IPython.core.display.Markdown object>"
      ]
     },
     "metadata": {},
     "output_type": "display_data"
    },
    {
     "name": "stdout",
     "output_type": "stream",
     "text": [
      "('-0.67', '0.33')\n"
     ]
    },
    {
     "data": {
      "text/markdown": [
       "<span style=\"font-family: Canela; font-size:2em;color:white;background-color:black\">Среда второго порядка\n",
       "(-1 МнПро, 0.33 МксПрл)</span>"
      ],
      "text/plain": [
       "<IPython.core.display.Markdown object>"
      ]
     },
     "metadata": {},
     "output_type": "display_data"
    },
    {
     "data": {
      "text/markdown": [
       "<span style=\"font-family: Canela; font-size:2em;color:black;background-color:white\">('-1', '0.33')</span>"
      ],
      "text/plain": [
       "<IPython.core.display.Markdown object>"
      ]
     },
     "metadata": {},
     "output_type": "display_data"
    },
    {
     "name": "stdout",
     "output_type": "stream",
     "text": [
      "('-1', '0.33')\n"
     ]
    },
    {
     "data": {
      "text/markdown": [
       "<span style=\"font-family: Canela; font-size:2em;color:white;background-color:black\">Выталкивание</span>"
      ],
      "text/plain": [
       "<IPython.core.display.Markdown object>"
      ]
     },
     "metadata": {},
     "output_type": "display_data"
    },
    {
     "data": {
      "text/markdown": [
       "<span style=\"font-family: Canela; font-size:2em;color:black;background-color:white\">('-0.67', '-0.33')</span>"
      ],
      "text/plain": [
       "<IPython.core.display.Markdown object>"
      ]
     },
     "metadata": {},
     "output_type": "display_data"
    },
    {
     "name": "stdout",
     "output_type": "stream",
     "text": [
      "('-0.67', '-0.33')\n"
     ]
    },
    {
     "data": {
      "text/markdown": [
       "<span style=\"font-family: Canela; font-size:2em;color:white;background-color:black\">Совпадение\n",
       "(-0.33 МнПро, -0.33 МксПрл)</span>"
      ],
      "text/plain": [
       "<IPython.core.display.Markdown object>"
      ]
     },
     "metadata": {},
     "output_type": "display_data"
    },
    {
     "data": {
      "text/markdown": [
       "<span style=\"font-family: Canela; font-size:2em;color:black;background-color:white\">('-0.33', '-0.33')</span>"
      ],
      "text/plain": [
       "<IPython.core.display.Markdown object>"
      ]
     },
     "metadata": {},
     "output_type": "display_data"
    },
    {
     "name": "stdout",
     "output_type": "stream",
     "text": [
      "('-0.33', '-0.33')\n"
     ]
    },
    {
     "data": {
      "text/markdown": [
       "<span style=\"font-family: Canela; font-size:2em;color:white;background-color:black\">Выталкивание</span>"
      ],
      "text/plain": [
       "<IPython.core.display.Markdown object>"
      ]
     },
     "metadata": {},
     "output_type": "display_data"
    },
    {
     "data": {
      "text/markdown": [
       "<span style=\"font-family: Canela; font-size:2em;color:black;background-color:white\">('-0.67', '-0.33')</span>"
      ],
      "text/plain": [
       "<IPython.core.display.Markdown object>"
      ]
     },
     "metadata": {},
     "output_type": "display_data"
    },
    {
     "name": "stdout",
     "output_type": "stream",
     "text": [
      "('-0.67', '-0.33')\n"
     ]
    },
    {
     "data": {
      "text/markdown": [
       "<span style=\"font-family: Canela; font-size:2em;color:white;background-color:black\">Совпадение\n",
       "(-0.33 МнПро, -0.33 МксПрл)</span>"
      ],
      "text/plain": [
       "<IPython.core.display.Markdown object>"
      ]
     },
     "metadata": {},
     "output_type": "display_data"
    },
    {
     "data": {
      "text/markdown": [
       "<span style=\"font-family: Canela; font-size:2em;color:black;background-color:white\">('-0.33', '-0.33')</span>"
      ],
      "text/plain": [
       "<IPython.core.display.Markdown object>"
      ]
     },
     "metadata": {},
     "output_type": "display_data"
    },
    {
     "name": "stdout",
     "output_type": "stream",
     "text": [
      "('-0.33', '-0.33')\n"
     ]
    },
    {
     "data": {
      "text/markdown": [
       "<span style=\"font-family: Canela; font-size:2em;color:white;background-color:black\">Выталкивание</span>"
      ],
      "text/plain": [
       "<IPython.core.display.Markdown object>"
      ]
     },
     "metadata": {},
     "output_type": "display_data"
    },
    {
     "data": {
      "text/markdown": [
       "<span style=\"font-family: Canela; font-size:2em;color:black;background-color:white\">('-0.67', '-0.33')</span>"
      ],
      "text/plain": [
       "<IPython.core.display.Markdown object>"
      ]
     },
     "metadata": {},
     "output_type": "display_data"
    },
    {
     "name": "stdout",
     "output_type": "stream",
     "text": [
      "('-0.67', '-0.33')\n"
     ]
    },
    {
     "data": {
      "text/markdown": [
       "<span style=\"font-family: Canela; font-size:2em;color:white;background-color:black\">Среда второго порядка\n",
       "(-0.67 МнПро, 0.33 МксПрл)</span>"
      ],
      "text/plain": [
       "<IPython.core.display.Markdown object>"
      ]
     },
     "metadata": {},
     "output_type": "display_data"
    },
    {
     "data": {
      "text/markdown": [
       "<span style=\"font-family: Canela; font-size:2em;color:black;background-color:white\">('-0.67', '0.33')</span>"
      ],
      "text/plain": [
       "<IPython.core.display.Markdown object>"
      ]
     },
     "metadata": {},
     "output_type": "display_data"
    },
    {
     "name": "stdout",
     "output_type": "stream",
     "text": [
      "('-0.67', '0.33')\n"
     ]
    },
    {
     "data": {
      "text/markdown": [
       "<span style=\"font-family: Canela; font-size:2em;color:white;background-color:black\">Совпадение\n",
       "(-0.33 МнПро, -0.33 МксПрл)</span>"
      ],
      "text/plain": [
       "<IPython.core.display.Markdown object>"
      ]
     },
     "metadata": {},
     "output_type": "display_data"
    },
    {
     "data": {
      "text/markdown": [
       "<span style=\"font-family: Canela; font-size:2em;color:black;background-color:white\">('-0.33', '-0.33')</span>"
      ],
      "text/plain": [
       "<IPython.core.display.Markdown object>"
      ]
     },
     "metadata": {},
     "output_type": "display_data"
    },
    {
     "name": "stdout",
     "output_type": "stream",
     "text": [
      "('-0.33', '-0.33')\n"
     ]
    },
    {
     "data": {
      "text/markdown": [
       "<span style=\"font-family: Canela; font-size:2em;color:white;background-color:black\">Среда второго порядка\n",
       "(-0.67 МнПро, 0.33 МксПрл)</span>"
      ],
      "text/plain": [
       "<IPython.core.display.Markdown object>"
      ]
     },
     "metadata": {},
     "output_type": "display_data"
    },
    {
     "data": {
      "text/markdown": [
       "<span style=\"font-family: Canela; font-size:2em;color:black;background-color:white\">('-0.67', '0.33')</span>"
      ],
      "text/plain": [
       "<IPython.core.display.Markdown object>"
      ]
     },
     "metadata": {},
     "output_type": "display_data"
    },
    {
     "name": "stdout",
     "output_type": "stream",
     "text": [
      "('-0.67', '0.33')\n"
     ]
    },
    {
     "data": {
      "text/markdown": [
       "<span style=\"font-family: Canela; font-size:2em;color:white;background-color:black\">Совпадение\n",
       "(-0.33 МнПро, -0.33 МксПрл)</span>"
      ],
      "text/plain": [
       "<IPython.core.display.Markdown object>"
      ]
     },
     "metadata": {},
     "output_type": "display_data"
    },
    {
     "data": {
      "text/markdown": [
       "<span style=\"font-family: Canela; font-size:2em;color:black;background-color:white\">('-0.33', '-0.33')</span>"
      ],
      "text/plain": [
       "<IPython.core.display.Markdown object>"
      ]
     },
     "metadata": {},
     "output_type": "display_data"
    },
    {
     "name": "stdout",
     "output_type": "stream",
     "text": [
      "('-0.33', '-0.33')\n"
     ]
    },
    {
     "data": {
      "text/markdown": [
       "<span style=\"font-family: Canela; font-size:2em;color:white;background-color:black\">Среда второго порядка\n",
       "(-0.67 МнПро, 0.33 МксПрл)</span>"
      ],
      "text/plain": [
       "<IPython.core.display.Markdown object>"
      ]
     },
     "metadata": {},
     "output_type": "display_data"
    },
    {
     "data": {
      "text/markdown": [
       "<span style=\"font-family: Canela; font-size:2em;color:black;background-color:white\">('-0.67', '0.33')</span>"
      ],
      "text/plain": [
       "<IPython.core.display.Markdown object>"
      ]
     },
     "metadata": {},
     "output_type": "display_data"
    },
    {
     "name": "stdout",
     "output_type": "stream",
     "text": [
      "('-0.67', '0.33')\n"
     ]
    },
    {
     "data": {
      "text/markdown": [
       "<span style=\"font-family: Canela; font-size:2em;color:white;background-color:black\">Совпадение\n",
       "(-0.33 МнПро, -0.33 МксПрл)</span>"
      ],
      "text/plain": [
       "<IPython.core.display.Markdown object>"
      ]
     },
     "metadata": {},
     "output_type": "display_data"
    },
    {
     "data": {
      "text/markdown": [
       "<span style=\"font-family: Canela; font-size:2em;color:black;background-color:white\">('-0.33', '-0.33')</span>"
      ],
      "text/plain": [
       "<IPython.core.display.Markdown object>"
      ]
     },
     "metadata": {},
     "output_type": "display_data"
    },
    {
     "name": "stdout",
     "output_type": "stream",
     "text": [
      "('-0.33', '-0.33')\n"
     ]
    },
    {
     "data": {
      "text/markdown": [
       "<span style=\"font-family: Canela; font-size:2em;color:white;background-color:black\">Среда второго порядка\n",
       "(-0.67 МнПро, 0 МксПрл)</span>"
      ],
      "text/plain": [
       "<IPython.core.display.Markdown object>"
      ]
     },
     "metadata": {},
     "output_type": "display_data"
    },
    {
     "data": {
      "text/markdown": [
       "<span style=\"font-family: Canela; font-size:2em;color:black;background-color:white\">('-0.67', '0')</span>"
      ],
      "text/plain": [
       "<IPython.core.display.Markdown object>"
      ]
     },
     "metadata": {},
     "output_type": "display_data"
    },
    {
     "name": "stdout",
     "output_type": "stream",
     "text": [
      "('-0.67', '0')\n"
     ]
    },
    {
     "data": {
      "text/markdown": [
       "<span style=\"font-family: Canela; font-size:2em;color:white;background-color:black\">Совпадение\n",
       "(-0.33 МнПро, -0.33 МксПрл)</span>"
      ],
      "text/plain": [
       "<IPython.core.display.Markdown object>"
      ]
     },
     "metadata": {},
     "output_type": "display_data"
    },
    {
     "data": {
      "text/markdown": [
       "<span style=\"font-family: Canela; font-size:2em;color:black;background-color:white\">('-0.33', '-0.33')</span>"
      ],
      "text/plain": [
       "<IPython.core.display.Markdown object>"
      ]
     },
     "metadata": {},
     "output_type": "display_data"
    },
    {
     "name": "stdout",
     "output_type": "stream",
     "text": [
      "('-0.33', '-0.33')\n"
     ]
    },
    {
     "data": {
      "text/markdown": [
       "<span style=\"font-family: Canela; font-size:2em;color:white;background-color:black\">Среда второго порядка\n",
       "(-0.67 МнПро, 0 МксПрл)</span>"
      ],
      "text/plain": [
       "<IPython.core.display.Markdown object>"
      ]
     },
     "metadata": {},
     "output_type": "display_data"
    },
    {
     "data": {
      "text/markdown": [
       "<span style=\"font-family: Canela; font-size:2em;color:black;background-color:white\">('-0.67', '0')</span>"
      ],
      "text/plain": [
       "<IPython.core.display.Markdown object>"
      ]
     },
     "metadata": {},
     "output_type": "display_data"
    },
    {
     "name": "stdout",
     "output_type": "stream",
     "text": [
      "('-0.67', '0')\n"
     ]
    },
    {
     "data": {
      "text/markdown": [
       "<span style=\"font-family: Canela; font-size:2em;color:white;background-color:black\">Совпадение\n",
       "(-0.33 МнПро, -0.33 МксПрл)</span>"
      ],
      "text/plain": [
       "<IPython.core.display.Markdown object>"
      ]
     },
     "metadata": {},
     "output_type": "display_data"
    },
    {
     "data": {
      "text/markdown": [
       "<span style=\"font-family: Canela; font-size:2em;color:black;background-color:white\">('-0.33', '-0.33')</span>"
      ],
      "text/plain": [
       "<IPython.core.display.Markdown object>"
      ]
     },
     "metadata": {},
     "output_type": "display_data"
    },
    {
     "name": "stdout",
     "output_type": "stream",
     "text": [
      "('-0.33', '-0.33')\n"
     ]
    },
    {
     "data": {
      "text/markdown": [
       "<span style=\"font-family: Canela; font-size:2em;color:white;background-color:black\">Среда второго порядка\n",
       "(0.33 МнПро, -0.33 МксПрл)</span>"
      ],
      "text/plain": [
       "<IPython.core.display.Markdown object>"
      ]
     },
     "metadata": {},
     "output_type": "display_data"
    },
    {
     "data": {
      "text/markdown": [
       "<span style=\"font-family: Canela; font-size:2em;color:black;background-color:white\">('0.33', '-0.33')</span>"
      ],
      "text/plain": [
       "<IPython.core.display.Markdown object>"
      ]
     },
     "metadata": {},
     "output_type": "display_data"
    },
    {
     "name": "stdout",
     "output_type": "stream",
     "text": [
      "('0.33', '-0.33')\n"
     ]
    },
    {
     "data": {
      "text/markdown": [
       "<span style=\"font-family: Canela; font-size:2em;color:white;background-color:black\">Среда второго порядка\n",
       "(0 МнПро, -0.33 МксПрл)</span>"
      ],
      "text/plain": [
       "<IPython.core.display.Markdown object>"
      ]
     },
     "metadata": {},
     "output_type": "display_data"
    },
    {
     "data": {
      "text/markdown": [
       "<span style=\"font-family: Canela; font-size:2em;color:black;background-color:white\">('0', '-0.33')</span>"
      ],
      "text/plain": [
       "<IPython.core.display.Markdown object>"
      ]
     },
     "metadata": {},
     "output_type": "display_data"
    },
    {
     "name": "stdout",
     "output_type": "stream",
     "text": [
      "('0', '-0.33')\n"
     ]
    },
    {
     "data": {
      "text/markdown": [
       "<span style=\"font-family: Canela; font-size:2em;color:white;background-color:black\">Среда второго порядка\n",
       "(0.33 МнПро, -0.33 МксПрл)</span>"
      ],
      "text/plain": [
       "<IPython.core.display.Markdown object>"
      ]
     },
     "metadata": {},
     "output_type": "display_data"
    },
    {
     "data": {
      "text/markdown": [
       "<span style=\"font-family: Canela; font-size:2em;color:black;background-color:white\">('0.33', '-0.33')</span>"
      ],
      "text/plain": [
       "<IPython.core.display.Markdown object>"
      ]
     },
     "metadata": {},
     "output_type": "display_data"
    },
    {
     "name": "stdout",
     "output_type": "stream",
     "text": [
      "('0.33', '-0.33')\n"
     ]
    },
    {
     "data": {
      "text/markdown": [
       "<span style=\"font-family: Canela; font-size:2em;color:white;background-color:black\">Среда второго порядка\n",
       "(0 МнПро, -0.33 МксПрл)</span>"
      ],
      "text/plain": [
       "<IPython.core.display.Markdown object>"
      ]
     },
     "metadata": {},
     "output_type": "display_data"
    },
    {
     "data": {
      "text/markdown": [
       "<span style=\"font-family: Canela; font-size:2em;color:black;background-color:white\">('0', '-0.33')</span>"
      ],
      "text/plain": [
       "<IPython.core.display.Markdown object>"
      ]
     },
     "metadata": {},
     "output_type": "display_data"
    },
    {
     "name": "stdout",
     "output_type": "stream",
     "text": [
      "('0', '-0.33')\n"
     ]
    },
    {
     "data": {
      "text/markdown": [
       "<span style=\"font-family: Canela; font-size:2em;color:white;background-color:black\">Среда второго порядка\n",
       "(0.33 МнПро, -0.33 МксПрл)</span>"
      ],
      "text/plain": [
       "<IPython.core.display.Markdown object>"
      ]
     },
     "metadata": {},
     "output_type": "display_data"
    },
    {
     "data": {
      "text/markdown": [
       "<span style=\"font-family: Canela; font-size:2em;color:black;background-color:white\">('0.33', '-0.33')</span>"
      ],
      "text/plain": [
       "<IPython.core.display.Markdown object>"
      ]
     },
     "metadata": {},
     "output_type": "display_data"
    },
    {
     "name": "stdout",
     "output_type": "stream",
     "text": [
      "('0.33', '-0.33')\n"
     ]
    },
    {
     "data": {
      "text/markdown": [
       "<span style=\"font-family: Canela; font-size:2em;color:white;background-color:black\">Среда второго порядка\n",
       "(0 МнПро, -0.33 МксПрл)</span>"
      ],
      "text/plain": [
       "<IPython.core.display.Markdown object>"
      ]
     },
     "metadata": {},
     "output_type": "display_data"
    },
    {
     "data": {
      "text/markdown": [
       "<span style=\"font-family: Canela; font-size:2em;color:black;background-color:white\">('0', '-0.33')</span>"
      ],
      "text/plain": [
       "<IPython.core.display.Markdown object>"
      ]
     },
     "metadata": {},
     "output_type": "display_data"
    },
    {
     "name": "stdout",
     "output_type": "stream",
     "text": [
      "('0', '-0.33')\n"
     ]
    },
    {
     "data": {
      "text/markdown": [
       "<span style=\"font-family: Canela; font-size:2em;color:white;background-color:black\">Среда второго порядка\n",
       "(0.33 МнПро, -0.33 МксПрл)</span>"
      ],
      "text/plain": [
       "<IPython.core.display.Markdown object>"
      ]
     },
     "metadata": {},
     "output_type": "display_data"
    },
    {
     "data": {
      "text/markdown": [
       "<span style=\"font-family: Canela; font-size:2em;color:black;background-color:white\">('0.33', '-0.33')</span>"
      ],
      "text/plain": [
       "<IPython.core.display.Markdown object>"
      ]
     },
     "metadata": {},
     "output_type": "display_data"
    },
    {
     "name": "stdout",
     "output_type": "stream",
     "text": [
      "('0.33', '-0.33')\n"
     ]
    },
    {
     "data": {
      "text/markdown": [
       "<span style=\"font-family: Canela; font-size:2em;color:white;background-color:black\">Среда второго порядка\n",
       "(0 МнПро, -0.33 МксПрл)</span>"
      ],
      "text/plain": [
       "<IPython.core.display.Markdown object>"
      ]
     },
     "metadata": {},
     "output_type": "display_data"
    },
    {
     "data": {
      "text/markdown": [
       "<span style=\"font-family: Canela; font-size:2em;color:black;background-color:white\">('0', '-0.33')</span>"
      ],
      "text/plain": [
       "<IPython.core.display.Markdown object>"
      ]
     },
     "metadata": {},
     "output_type": "display_data"
    },
    {
     "name": "stdout",
     "output_type": "stream",
     "text": [
      "('0', '-0.33')\n"
     ]
    },
    {
     "data": {
      "text/markdown": [
       "<span style=\"font-family: Canela; font-size:2em;color:white;background-color:black\">Среда второго порядка\n",
       "(0.33 МнПро, -0.33 МксПрл)</span>"
      ],
      "text/plain": [
       "<IPython.core.display.Markdown object>"
      ]
     },
     "metadata": {},
     "output_type": "display_data"
    },
    {
     "data": {
      "text/markdown": [
       "<span style=\"font-family: Canela; font-size:2em;color:black;background-color:white\">('0.33', '-0.33')</span>"
      ],
      "text/plain": [
       "<IPython.core.display.Markdown object>"
      ]
     },
     "metadata": {},
     "output_type": "display_data"
    },
    {
     "name": "stdout",
     "output_type": "stream",
     "text": [
      "('0.33', '-0.33')\n"
     ]
    },
    {
     "data": {
      "text/markdown": [
       "<span style=\"font-family: Canela; font-size:2em;color:white;background-color:black\">Среда второго порядка\n",
       "(0 МнПро, -0.33 МксПрл)</span>"
      ],
      "text/plain": [
       "<IPython.core.display.Markdown object>"
      ]
     },
     "metadata": {},
     "output_type": "display_data"
    },
    {
     "data": {
      "text/markdown": [
       "<span style=\"font-family: Canela; font-size:2em;color:black;background-color:white\">('0', '-0.33')</span>"
      ],
      "text/plain": [
       "<IPython.core.display.Markdown object>"
      ]
     },
     "metadata": {},
     "output_type": "display_data"
    },
    {
     "name": "stdout",
     "output_type": "stream",
     "text": [
      "('0', '-0.33')\n"
     ]
    }
   ],
   "source": [
    "# proc.start(mode='manual')\n",
    "proc.start()"
   ]
  },
  {
   "cell_type": "code",
   "execution_count": 15,
   "id": "fc59959b",
   "metadata": {},
   "outputs": [],
   "source": [
    "# proc.available_samples = {\n",
    "#     'kick'  : [0, 2, 4],\n",
    "#     'snare' : [1, 6],\n",
    "#     'hihat' : [3, 5, 8],\n",
    "#     'bass'  : [1, 7],\n",
    "# }"
   ]
  },
  {
   "cell_type": "code",
   "execution_count": 39,
   "id": "27ff3cc7",
   "metadata": {},
   "outputs": [],
   "source": [
    "# manual mode (aka live-coding)\n",
    "# 'kick', 'snare', 'hihat', 'bass'\n",
    "proc.coef = 1.2\n",
    "proc.beat_count = 4\n",
    "proc.subbeat_count = 8\n",
    "# proc.mode = 'manual'\n",
    "proc.manual_mutate_voice('kick')\n",
    "# proc.mute_voice('kick')\n",
    "proc.manual_mutate_voice('snare')\n",
    "# proc.mute_voice('snare')\n",
    "proc.manual_mutate_voice('hihat')\n",
    "# proc.mute_voice('hihat')\n",
    "proc.manual_mutate_voice('bass')\n",
    "# proc.mute_voice('bass')"
   ]
  },
  {
   "cell_type": "code",
   "execution_count": 40,
   "id": "5dcd17f3",
   "metadata": {},
   "outputs": [],
   "source": [
    "proc.return_to_autopilot()"
   ]
  },
  {
   "cell_type": "code",
   "execution_count": 12,
   "id": "483ef88b",
   "metadata": {},
   "outputs": [
    {
     "data": {
      "text/markdown": [
       "Спасибо!"
      ],
      "text/plain": [
       "<IPython.core.display.Markdown object>"
      ]
     },
     "metadata": {},
     "output_type": "display_data"
    }
   ],
   "source": [
    "proc.stop()"
   ]
  },
  {
   "cell_type": "code",
   "execution_count": null,
   "id": "fb7fbfb6",
   "metadata": {},
   "outputs": [],
   "source": []
  },
  {
   "cell_type": "code",
   "execution_count": null,
   "id": "86b824da",
   "metadata": {},
   "outputs": [],
   "source": []
  },
  {
   "cell_type": "code",
   "execution_count": null,
   "id": "d9625d15",
   "metadata": {},
   "outputs": [],
   "source": []
  }
 ],
 "metadata": {
  "kernelspec": {
   "display_name": "Python 3",
   "language": "python",
   "name": "python3"
  },
  "language_info": {
   "codemirror_mode": {
    "name": "ipython",
    "version": 3
   },
   "file_extension": ".py",
   "mimetype": "text/x-python",
   "name": "python",
   "nbconvert_exporter": "python",
   "pygments_lexer": "ipython3",
   "version": "3.8.10"
  }
 },
 "nbformat": 4,
 "nbformat_minor": 5
}
